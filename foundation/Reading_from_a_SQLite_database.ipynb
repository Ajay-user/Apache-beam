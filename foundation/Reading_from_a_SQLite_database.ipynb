{
  "nbformat": 4,
  "nbformat_minor": 0,
  "metadata": {
    "colab": {
      "name": "Reading from a SQLite database.ipynb",
      "provenance": [],
      "collapsed_sections": [],
      "authorship_tag": "ABX9TyP/buoP/KIC4n0o7BU5QZfa",
      "include_colab_link": true
    },
    "kernelspec": {
      "name": "python3",
      "display_name": "Python 3"
    },
    "language_info": {
      "name": "python"
    }
  },
  "cells": [
    {
      "cell_type": "markdown",
      "metadata": {
        "id": "view-in-github",
        "colab_type": "text"
      },
      "source": [
        "<a href=\"https://colab.research.google.com/github/Ajay-user/Apache-beam/blob/main/foundation/Reading_from_a_SQLite_database.ipynb\" target=\"_parent\"><img src=\"https://colab.research.google.com/assets/colab-badge.svg\" alt=\"Open In Colab\"/></a>"
      ]
    },
    {
      "cell_type": "code",
      "execution_count": 2,
      "metadata": {
        "id": "8MItZ5Vfiz_1"
      },
      "outputs": [],
      "source": [
        "# ! pip install apache-beam -q"
      ]
    },
    {
      "cell_type": "markdown",
      "source": [
        "## Create SQLite local database file"
      ],
      "metadata": {
        "id": "39qXZDBtjRlx"
      }
    },
    {
      "cell_type": "markdown",
      "source": [
        "### Connection"
      ],
      "metadata": {
        "id": "dnuBbWyJjpyB"
      }
    },
    {
      "cell_type": "code",
      "source": [
        "import sqlite3\n",
        "\n",
        "db_name = 'moon-phase.db'"
      ],
      "metadata": {
        "id": "B83kaujPjCrc"
      },
      "execution_count": 34,
      "outputs": []
    },
    {
      "cell_type": "markdown",
      "source": [
        "### Create Table"
      ],
      "metadata": {
        "id": "fDEkWuRVj6Bp"
      }
    },
    {
      "cell_type": "code",
      "source": [
        "with sqlite3.connect(db_name) as db:\n",
        "  cursor = db.cursor()\n",
        "  query = \"\"\"\n",
        "          create table if not exists moonphases (\n",
        "            id integer primary key,\n",
        "            phase_emoji text not null,\n",
        "            peak_datetime datetime not null,\n",
        "            phase text not null\n",
        "          )\n",
        "  \"\"\"\n",
        "\n",
        "  cursor.execute(query)"
      ],
      "metadata": {
        "id": "oEpBNCG4j5Dp"
      },
      "execution_count": 35,
      "outputs": []
    },
    {
      "cell_type": "markdown",
      "source": [
        "### Insert data"
      ],
      "metadata": {
        "id": "9vcyQ-gKjs16"
      }
    },
    {
      "cell_type": "code",
      "source": [
        "with sqlite3.connect(db_name) as db:\n",
        "  cursor = db.cursor()\n",
        "  query = \"\"\"\n",
        "      insert into moonphases (phase_emoji, peak_datetime, phase) values (?,?,?)\n",
        "  \"\"\"\n",
        "\n",
        "  cursor.executemany(query, [\n",
        "    ('🌕', '2017-12-03 15:47:00', 'Full Moon'),\n",
        "    ('🌗', '2017-12-10 07:51:00', 'Last Quarter'),\n",
        "    ('🌑', '2017-12-18 06:30:00', 'New Moon'),\n",
        "    ('🌓', '2017-12-26 09:20:00', 'First Quarter'),\n",
        "    ('🌕', '2018-01-02 02:24:00', 'Full Moon'),\n",
        "    ('🌗', '2018-01-08 22:25:00', 'Last Quarter'),\n",
        "    ('🌑', '2018-01-17 02:17:00', 'New Moon'),\n",
        "    ('🌓', '2018-01-24 22:20:00', 'First Quarter'),\n",
        "    ('🌕', '2018-01-31 13:27:00', 'Full Moon'),\n",
        "\n",
        "  ])"
      ],
      "metadata": {
        "id": "x6TVMkAMjW6z"
      },
      "execution_count": 36,
      "outputs": []
    },
    {
      "cell_type": "markdown",
      "source": [
        "### Select from db\n"
      ],
      "metadata": {
        "id": "Gyhe_9eQk_Xg"
      }
    },
    {
      "cell_type": "code",
      "source": [
        "with sqlite3.connect(db_name) as db:\n",
        "  cursor = db.cursor()\n",
        "  query = \"\"\"\n",
        "      select * from moonphases;\n",
        "  \"\"\"\n",
        "\n",
        "  cursor.execute(query)\n",
        "\n",
        "  for row in cursor.fetchall():\n",
        "    print(row)"
      ],
      "metadata": {
        "colab": {
          "base_uri": "https://localhost:8080/"
        },
        "id": "8WXq3uHGksGQ",
        "outputId": "38332465-c2ee-48b2-ddc5-e68bda4e81f9"
      },
      "execution_count": 37,
      "outputs": [
        {
          "output_type": "stream",
          "name": "stdout",
          "text": [
            "(1, '🌕', '2017-12-03 15:47:00', 'Full Moon')\n",
            "(2, '🌗', '2017-12-10 07:51:00', 'Last Quarter')\n",
            "(3, '🌑', '2017-12-18 06:30:00', 'New Moon')\n",
            "(4, '🌓', '2017-12-26 09:20:00', 'First Quarter')\n",
            "(5, '🌕', '2018-01-02 02:24:00', 'Full Moon')\n",
            "(6, '🌗', '2018-01-08 22:25:00', 'Last Quarter')\n",
            "(7, '🌑', '2018-01-17 02:17:00', 'New Moon')\n",
            "(8, '🌓', '2018-01-24 22:20:00', 'First Quarter')\n",
            "(9, '🌕', '2018-01-31 13:27:00', 'Full Moon')\n"
          ]
        }
      ]
    },
    {
      "cell_type": "markdown",
      "source": [
        "We could use a `FlatMap` transform to receive a SQL query and `yield` each result row, but that would mean creating a new database connection for each query. If we generated a large number of queries, creating that many connections could be a bottleneck.\n",
        "\n",
        "It would be nice to create the database connection only once for each worker, and every query could use the same connection if needed.\n",
        "\n",
        "We can use a\n",
        "[custom `DoFn` transform](https://beam.apache.org/documentation/transforms/python/elementwise/pardo/#example-3-pardo-with-dofn-methods)\n",
        "for this. It allows us to open and close resources, like the database connection, only _once_ per `DoFn` _instance_ by using the `setup` and `teardown` methods.\n",
        "\n",
        "> ℹ️ It should be safe to _read_ from a database with multiple concurrent processes using the same connection, but only one process should be _writing_ at once."
      ],
      "metadata": {
        "id": "tXysplU_lXBQ"
      }
    },
    {
      "cell_type": "code",
      "source": [
        "import apache_beam as beam\n",
        "from apache_beam.options.pipeline_options import PipelineOptions\n",
        "from typing import List, Dict, Tuple, Iterable"
      ],
      "metadata": {
        "id": "ThRWu2H-lRnY"
      },
      "execution_count": 33,
      "outputs": []
    },
    {
      "cell_type": "code",
      "source": [
        "class SQLiteSelect(beam.DoFn):\n",
        "  \n",
        "  def __init__(self, database_file: str):\n",
        "    self.database_file = database_file\n",
        "\n",
        "  def setup(self):\n",
        "    self.connection = sqlite3.connect(self.database_file)\n",
        "\n",
        "  def process(self, query: Tuple[str, List[str]]) -> Iterable[Dict[str, str]]:\n",
        "    table, columns = query\n",
        "    cursor = self.connection.cursor()\n",
        "    cursor.execute(f\"SELECT {','.join(columns)} FROM {table}\")\n",
        "    for row in cursor.fetchall():\n",
        "      yield dict(zip(columns, row))\n",
        "\n",
        "  def teardown(self):\n",
        "    self.connection.close()"
      ],
      "metadata": {
        "id": "U5CAMqS2gr6d"
      },
      "execution_count": 39,
      "outputs": []
    },
    {
      "cell_type": "code",
      "source": [
        "@beam.ptransform_fn\n",
        "@beam.typehints.with_input_types(beam.pvalue.PBegin)\n",
        "@beam.typehints.with_output_types(Dict[str, str])\n",
        "def SelectFromSQLite(\n",
        "    pbegin: beam.pvalue.PBegin,\n",
        "    database_file: str,\n",
        "    queries: List[Tuple[str, List[str]]],\n",
        ") -> beam.PCollection[Dict[str, str]]:\n",
        "\n",
        "  return (\n",
        "      pbegin\n",
        "      | 'Create inputs' >> beam.Create(queries)\n",
        "      | 'SQLite SELECT' >> beam.ParDo(SQLiteSelect(database_file))\n",
        "  )"
      ],
      "metadata": {
        "id": "C6KdQ7mTguH9"
      },
      "execution_count": 40,
      "outputs": []
    },
    {
      "cell_type": "code",
      "source": [
        "\n",
        "queries = [\n",
        "    # (table_name, [column1, column2, ...])\n",
        "    ('moonphases', ['phase_emoji', 'peak_datetime', 'phase']),\n",
        "    ('moonphases', ['phase_emoji', 'phase']),\n",
        "]\n",
        "\n",
        "\n",
        "options = PipelineOptions(flags=[], type_check_additional='all')\n",
        "\n",
        "with beam.Pipeline(options=options) as pipeline:\n",
        "  (\n",
        "      pipeline\n",
        "      | 'Read from SQLite' >> SelectFromSQLite(db_name, queries)\n",
        "      | 'Print rows' >> beam.Map(print)\n",
        "  )"
      ],
      "metadata": {
        "id": "QHjjR5FZqGHk",
        "colab": {
          "base_uri": "https://localhost:8080/"
        },
        "outputId": "aa6857b6-53b2-4a9f-9fdf-bedff81392d9"
      },
      "execution_count": 41,
      "outputs": [
        {
          "output_type": "stream",
          "name": "stdout",
          "text": [
            "{'phase_emoji': '🌕', 'peak_datetime': '2017-12-03 15:47:00', 'phase': 'Full Moon'}\n",
            "{'phase_emoji': '🌗', 'peak_datetime': '2017-12-10 07:51:00', 'phase': 'Last Quarter'}\n",
            "{'phase_emoji': '🌑', 'peak_datetime': '2017-12-18 06:30:00', 'phase': 'New Moon'}\n",
            "{'phase_emoji': '🌓', 'peak_datetime': '2017-12-26 09:20:00', 'phase': 'First Quarter'}\n",
            "{'phase_emoji': '🌕', 'peak_datetime': '2018-01-02 02:24:00', 'phase': 'Full Moon'}\n",
            "{'phase_emoji': '🌗', 'peak_datetime': '2018-01-08 22:25:00', 'phase': 'Last Quarter'}\n",
            "{'phase_emoji': '🌑', 'peak_datetime': '2018-01-17 02:17:00', 'phase': 'New Moon'}\n",
            "{'phase_emoji': '🌓', 'peak_datetime': '2018-01-24 22:20:00', 'phase': 'First Quarter'}\n",
            "{'phase_emoji': '🌕', 'peak_datetime': '2018-01-31 13:27:00', 'phase': 'Full Moon'}\n",
            "{'phase_emoji': '🌕', 'phase': 'Full Moon'}\n",
            "{'phase_emoji': '🌗', 'phase': 'Last Quarter'}\n",
            "{'phase_emoji': '🌑', 'phase': 'New Moon'}\n",
            "{'phase_emoji': '🌓', 'phase': 'First Quarter'}\n",
            "{'phase_emoji': '🌕', 'phase': 'Full Moon'}\n",
            "{'phase_emoji': '🌗', 'phase': 'Last Quarter'}\n",
            "{'phase_emoji': '🌑', 'phase': 'New Moon'}\n",
            "{'phase_emoji': '🌓', 'phase': 'First Quarter'}\n",
            "{'phase_emoji': '🌕', 'phase': 'Full Moon'}\n"
          ]
        }
      ]
    }
  ]
}