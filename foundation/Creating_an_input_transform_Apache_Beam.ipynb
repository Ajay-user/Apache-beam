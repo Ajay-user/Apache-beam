{
  "nbformat": 4,
  "nbformat_minor": 0,
  "metadata": {
    "colab": {
      "name": "Creating an input transform : Apache Beam",
      "provenance": [],
      "toc_visible": true,
      "authorship_tag": "ABX9TyN6NrlGKDOKJ+SkDLZEwsBe",
      "include_colab_link": true
    },
    "kernelspec": {
      "name": "python3",
      "display_name": "Python 3"
    },
    "language_info": {
      "name": "python"
    }
  },
  "cells": [
    {
      "cell_type": "markdown",
      "metadata": {
        "id": "view-in-github",
        "colab_type": "text"
      },
      "source": [
        "<a href=\"https://colab.research.google.com/github/Ajay-user/Apache-beam/blob/main/foundation/Creating_an_input_transform_Apache_Beam.ipynb\" target=\"_parent\"><img src=\"https://colab.research.google.com/assets/colab-badge.svg\" alt=\"Open In Colab\"/></a>"
      ]
    },
    {
      "cell_type": "code",
      "execution_count": null,
      "metadata": {
        "id": "JwuOeYnL1W74"
      },
      "outputs": [],
      "source": [
        "# ! pip install -q --upgrade pip setuptools wheel\n",
        "# ! pip install --quiet apache-beam"
      ]
    },
    {
      "cell_type": "code",
      "source": [
        "import apache_beam as beam"
      ],
      "metadata": {
        "id": "lRxL34Cp1o6I"
      },
      "execution_count": 14,
      "outputs": []
    },
    {
      "cell_type": "code",
      "source": [
        "# !mkdir data"
      ],
      "metadata": {
        "id": "6meooTMP3YEE"
      },
      "execution_count": 16,
      "outputs": []
    },
    {
      "cell_type": "code",
      "source": [
        "%%writefile data/my-text-file-1.txt\n",
        "This is just a plain text file, UTF-8 strings are allowed 🎉.\n",
        "Each line in the file is one element in the PCollection."
      ],
      "metadata": {
        "colab": {
          "base_uri": "https://localhost:8080/"
        },
        "id": "g90U5ZDO3n_S",
        "outputId": "e7056055-c8e4-4cc5-deba-e0e7322d9fab"
      },
      "execution_count": null,
      "outputs": [
        {
          "output_type": "stream",
          "name": "stdout",
          "text": [
            "Writing data/my-text-file-1.txt\n"
          ]
        }
      ]
    },
    {
      "cell_type": "code",
      "source": [
        "%%writefile data/my-text-file-2.txt\n",
        "There are no guarantees on the order of the elements.\n",
        "ฅ^•ﻌ•^ฅ"
      ],
      "metadata": {
        "id": "FAe9yXTP4F0j",
        "outputId": "386735a2-8616-4238-f1ae-5942f89f13bc",
        "colab": {
          "base_uri": "https://localhost:8080/"
        }
      },
      "execution_count": null,
      "outputs": [
        {
          "output_type": "stream",
          "name": "stdout",
          "text": [
            "Writing data/my-text-file-2.txt\n"
          ]
        }
      ]
    },
    {
      "cell_type": "code",
      "source": [
        "%%writefile data/penguins.csv\n",
        "species,culmen_length_mm,culmen_depth_mm,flipper_length_mm,body_mass_g\n",
        "0,0.2545454545454545,0.6666666666666666,0.15254237288135594,0.2916666666666667\n",
        "0,0.26909090909090905,0.5119047619047618,0.23728813559322035,0.3055555555555556\n",
        "1,0.5236363636363636,0.5714285714285713,0.3389830508474576,0.2222222222222222\n",
        "1,0.6509090909090909,0.7619047619047619,0.4067796610169492,0.3333333333333333\n",
        "2,0.509090909090909,0.011904761904761862,0.6610169491525424,0.5\n",
        "2,0.6509090909090909,0.38095238095238104,0.9830508474576272,0.8333333333333334"
      ],
      "metadata": {
        "id": "xjI-E5qo4GfC",
        "outputId": "bc7b2713-21ec-430c-b214-6c862d8a0402",
        "colab": {
          "base_uri": "https://localhost:8080/"
        }
      },
      "execution_count": null,
      "outputs": [
        {
          "output_type": "stream",
          "name": "stdout",
          "text": [
            "Writing data/penguins.csv\n"
          ]
        }
      ]
    },
    {
      "cell_type": "markdown",
      "source": [
        "## A simple pipeline"
      ],
      "metadata": {
        "id": "y2h6_tAU50M6"
      }
    },
    {
      "cell_type": "code",
      "source": [
        "with beam.Pipeline() as pipe:\n",
        "  (pipe\n",
        "   |'read'>>beam.io.ReadFromText('data/*.txt')\n",
        "   |'write'>>beam.io.WriteToText('data/output', file_name_suffix='.txt'))"
      ],
      "metadata": {
        "id": "KiKGI39Q4JNC"
      },
      "execution_count": 25,
      "outputs": []
    },
    {
      "cell_type": "code",
      "source": [
        "! cat data/output*.txt"
      ],
      "metadata": {
        "colab": {
          "base_uri": "https://localhost:8080/"
        },
        "id": "klcnIj7M6hLK",
        "outputId": "40c20ca2-6ae5-44f9-d9e8-9d074fbd932b"
      },
      "execution_count": 28,
      "outputs": [
        {
          "output_type": "stream",
          "name": "stdout",
          "text": [
            "There are no guarantees on the order of the elements.\n",
            "ฅ^•ﻌ•^ฅ\n",
            "This is just a plain text file, UTF-8 strings are allowed 🎉.\n",
            "Each line in the file is one element in the PCollection.\n"
          ]
        }
      ]
    },
    {
      "cell_type": "markdown",
      "source": [
        "## Creating an input transform"
      ],
      "metadata": {
        "id": "1gBPgY117ty_"
      }
    },
    {
      "cell_type": "code",
      "source": [
        "import apache_beam as beam\n",
        "from apache_beam.options import pipeline_options\n",
        "from typing import Iterable\n",
        "\n",
        "\n",
        "@beam.ptransform_fn\n",
        "@beam.typehints.with_input_types(beam.pvalue.PBegin)\n",
        "@beam.typehints.with_output_types(int)\n",
        "def Count(pbegin:beam.pvalue.PBegin, n:int)->beam.PCollection[int]:\n",
        "  # generator function can be defined locally within the PTransform. \n",
        "  def count(n:int)->Iterable[int]:\n",
        "    for i in range(n):\n",
        "      yield i\n",
        "  # ouput\n",
        "  return (\n",
        "      pbegin\n",
        "      |'create inputs'>>beam.Create([n])\n",
        "      |'generate numbers'>>beam.FlatMap(count)\n",
        "  )\n",
        "  \n",
        "\n",
        "# counter \n",
        "n = 5\n",
        "\n",
        "with beam.Pipeline() as pipe:\n",
        "  (\n",
        "   pipe\n",
        "   |f'count to {n}'>> Count(n)\n",
        "   | 'print'>> beam.Map(print)\n",
        "  )\n",
        "\n"
      ],
      "metadata": {
        "colab": {
          "base_uri": "https://localhost:8080/"
        },
        "id": "X1OBdVzK6nUg",
        "outputId": "91af5a6e-84eb-4af8-b73d-514d702e9df4"
      },
      "execution_count": 34,
      "outputs": [
        {
          "output_type": "stream",
          "name": "stdout",
          "text": [
            "0\n",
            "1\n",
            "2\n",
            "3\n",
            "4\n"
          ]
        }
      ]
    },
    {
      "cell_type": "markdown",
      "source": [
        "## Beam file system\n",
        "\n",
        "Beam already supports several different file systems besides local files"
      ],
      "metadata": {
        "id": "PpStIEBJ_0JY"
      }
    },
    {
      "cell_type": "code",
      "source": [
        "from apache_beam.io.filesystems import FileSystems as beam_fs\n",
        "\n",
        "beam_fs.match(patterns=['data/*.csv'])"
      ],
      "metadata": {
        "colab": {
          "base_uri": "https://localhost:8080/"
        },
        "id": "m0-zyGybEaCh",
        "outputId": "a9d3231c-efbb-4a26-f085-2ea543d2c6b6"
      },
      "execution_count": 46,
      "outputs": [
        {
          "output_type": "execute_result",
          "data": {
            "text/plain": [
              "[<apache_beam.io.filesystem.MatchResult at 0x7fba6b3b48d0>]"
            ]
          },
          "metadata": {},
          "execution_count": 46
        }
      ]
    },
    {
      "cell_type": "code",
      "source": [
        "beam_fs.match(patterns=['data/*.csv'])[0].metadata_list"
      ],
      "metadata": {
        "colab": {
          "base_uri": "https://localhost:8080/"
        },
        "id": "26zEi4ueFxdA",
        "outputId": "b027feb6-7e28-4669-b84e-5a6d39a52bfd"
      },
      "execution_count": 49,
      "outputs": [
        {
          "output_type": "execute_result",
          "data": {
            "text/plain": [
              "[FileMetadata(data/penguins.csv, 528, 1659180717.7101028)]"
            ]
          },
          "metadata": {},
          "execution_count": 49
        }
      ]
    },
    {
      "cell_type": "code",
      "source": [
        "beam_fs.match(patterns=['data/*.csv'])[0].metadata_list[0].path"
      ],
      "metadata": {
        "colab": {
          "base_uri": "https://localhost:8080/",
          "height": 35
        },
        "id": "pzoYK0EnGGMo",
        "outputId": "ff29a2d5-2042-44d4-e796-0f171b317e25"
      },
      "execution_count": 51,
      "outputs": [
        {
          "output_type": "execute_result",
          "data": {
            "text/plain": [
              "'data/penguins.csv'"
            ],
            "application/vnd.google.colaboratory.intrinsic+json": {
              "type": "string"
            }
          },
          "metadata": {},
          "execution_count": 51
        }
      ]
    },
    {
      "cell_type": "code",
      "source": [
        "from apache_beam.io.filesystems import FileSystems as beam_fs\n",
        "import csv\n",
        "import codecs\n",
        "\n",
        "file_path = 'data/penguins.csv'\n",
        "\n",
        "with beam_fs.open(file_path) as f:\n",
        "  for row in csv.DictReader(codecs.iterdecode(f,'utf-8')):\n",
        "    print(dict(row))"
      ],
      "metadata": {
        "colab": {
          "base_uri": "https://localhost:8080/"
        },
        "id": "TqQrp0N59Cng",
        "outputId": "5bc654a4-c15d-4b89-89b5-c077a79ca138"
      },
      "execution_count": 64,
      "outputs": [
        {
          "output_type": "stream",
          "name": "stdout",
          "text": [
            "{'species': '0', 'culmen_length_mm': '0.2545454545454545', 'culmen_depth_mm': '0.6666666666666666', 'flipper_length_mm': '0.15254237288135594', 'body_mass_g': '0.2916666666666667'}\n",
            "{'species': '0', 'culmen_length_mm': '0.26909090909090905', 'culmen_depth_mm': '0.5119047619047618', 'flipper_length_mm': '0.23728813559322035', 'body_mass_g': '0.3055555555555556'}\n",
            "{'species': '1', 'culmen_length_mm': '0.5236363636363636', 'culmen_depth_mm': '0.5714285714285713', 'flipper_length_mm': '0.3389830508474576', 'body_mass_g': '0.2222222222222222'}\n",
            "{'species': '1', 'culmen_length_mm': '0.6509090909090909', 'culmen_depth_mm': '0.7619047619047619', 'flipper_length_mm': '0.4067796610169492', 'body_mass_g': '0.3333333333333333'}\n",
            "{'species': '2', 'culmen_length_mm': '0.509090909090909', 'culmen_depth_mm': '0.011904761904761862', 'flipper_length_mm': '0.6610169491525424', 'body_mass_g': '0.5'}\n",
            "{'species': '2', 'culmen_length_mm': '0.6509090909090909', 'culmen_depth_mm': '0.38095238095238104', 'flipper_length_mm': '0.9830508474576272', 'body_mass_g': '0.8333333333333334'}\n"
          ]
        }
      ]
    },
    {
      "cell_type": "markdown",
      "source": [
        "## Reading CSV files"
      ],
      "metadata": {
        "id": "hSAT1GexDWAT"
      }
    },
    {
      "cell_type": "code",
      "source": [
        "import apache_beam as beam\n",
        "from apache_beam.io.filesystems import FileSystems as beam_fs\n",
        "from apache_beam.options.pipeline_options import PipelineOptions\n",
        "import codecs\n",
        "import csv\n",
        "from typing import Dict, Iterable, List\n",
        "\n",
        "@beam.ptransform_fn\n",
        "@beam.typehints.with_input_types(beam.pvalue.PBegin)\n",
        "@beam.typehints.with_output_types(Dict[str,str])\n",
        "def ReadCSVfiles(pbegin:beam.pvalue.PBegin, file_patterns:List[str])->beam.PCollection[Dict[str,str]]:\n",
        " \n",
        "  def expand_pattern(file_patterns:str)->Iterable[str]:\n",
        "    for result in beam_fs.match(patterns=[file_patterns])[0].metadata_list:\n",
        "      yield result.path\n",
        "  \n",
        "  def readCSVfile(file_name:str)->Iterable[Dict[str,str]]:\n",
        "    with beam_fs.open(file_name) as f:\n",
        "      # the csv.DictReader need string but beam_fs.open give as output bytes\n",
        "      # so encode them using codecs.iterdecode\n",
        "      for row in csv.DictReader(codecs.iterdecode(f,'utf-8')):\n",
        "        yield dict(row)\n",
        "      \n",
        "  return(\n",
        "      pbegin\n",
        "      |'create input'>>beam.Create(file_patterns)\n",
        "      |'expand patterns'>>beam.FlatMap(expand_pattern)\n",
        "      |'read csv file'>>beam.FlatMap(readCSVfile)\n",
        "  ) \n",
        "\n",
        "\n",
        "\n",
        "input_patterns = ['data/*.csv']\n",
        "options = PipelineOptions(flags=[], type_check_additional='all')\n",
        "\n",
        "with beam.Pipeline(options=options) as pipe:\n",
        "  (\n",
        "   pipe\n",
        "   |'reading csv files'>>ReadCSVfiles(input_patterns)\n",
        "   |'printing'>>beam.Map(print)\n",
        "  )"
      ],
      "metadata": {
        "colab": {
          "base_uri": "https://localhost:8080/"
        },
        "id": "EH9SAeDT_zLQ",
        "outputId": "34c4802d-1874-4510-ce8a-6b90891ba072"
      },
      "execution_count": 63,
      "outputs": [
        {
          "output_type": "stream",
          "name": "stdout",
          "text": [
            "{'species': '0', 'culmen_length_mm': '0.2545454545454545', 'culmen_depth_mm': '0.6666666666666666', 'flipper_length_mm': '0.15254237288135594', 'body_mass_g': '0.2916666666666667'}\n",
            "{'species': '0', 'culmen_length_mm': '0.26909090909090905', 'culmen_depth_mm': '0.5119047619047618', 'flipper_length_mm': '0.23728813559322035', 'body_mass_g': '0.3055555555555556'}\n",
            "{'species': '1', 'culmen_length_mm': '0.5236363636363636', 'culmen_depth_mm': '0.5714285714285713', 'flipper_length_mm': '0.3389830508474576', 'body_mass_g': '0.2222222222222222'}\n",
            "{'species': '1', 'culmen_length_mm': '0.6509090909090909', 'culmen_depth_mm': '0.7619047619047619', 'flipper_length_mm': '0.4067796610169492', 'body_mass_g': '0.3333333333333333'}\n",
            "{'species': '2', 'culmen_length_mm': '0.509090909090909', 'culmen_depth_mm': '0.011904761904761862', 'flipper_length_mm': '0.6610169491525424', 'body_mass_g': '0.5'}\n",
            "{'species': '2', 'culmen_length_mm': '0.6509090909090909', 'culmen_depth_mm': '0.38095238095238104', 'flipper_length_mm': '0.9830508474576272', 'body_mass_g': '0.8333333333333334'}\n"
          ]
        }
      ]
    },
    {
      "cell_type": "markdown",
      "source": [
        "## Reading from a SQLite database"
      ],
      "metadata": {
        "id": "hsM-1vY6OC-6"
      }
    },
    {
      "cell_type": "code",
      "source": [
        "import sqlite3\n",
        "\n",
        "db_name = 'moon-phase.db'\n",
        "\n",
        "with sqlite3.connect(db_name) as db:\n",
        "  cursor = db.cursor()\n",
        "\n",
        "  cursor.execute('''\n",
        "    create table if not exists moon_phases (\n",
        "    id integer primary key,\n",
        "    phase_emoji text not null,\n",
        "    peak_datetime datetime not null,\n",
        "    emoji text not null\n",
        "    )''')\n",
        "  \n",
        "  cursor.executemany('''\n",
        "     insert into moon_phases \n",
        "     (id, phase_emoji, peak_datetime, emoji)\n",
        "     values (?,?,?,?)\n",
        "     ''', [\n",
        "      (1, '🌕', '2017-12-03 15:47:00', 'Full Moon'),\n",
        "      (2, '🌗', '2017-12-10 07:51:00', 'Last Quarter'),\n",
        "      (3, '🌑', '2017-12-18 06:30:00', 'New Moon'),\n",
        "      (4, '🌓', '2017-12-26 09:20:00', 'First Quarter'),\n",
        "      (5, '🌕', '2018-01-02 02:24:00', 'Full Moon'),\n",
        "      (6, '🌗', '2018-01-08 22:25:00', 'Last Quarter'),\n",
        "      (7, '🌑', '2018-01-17 02:17:00', 'New Moon'),\n",
        "      (8, '🌓', '2018-01-24 22:20:00', 'First Quarter'),\n",
        "      (9, '🌕', '2018-01-31 13:27:00', 'Full Moon')\n",
        "      ])\n",
        "  \n",
        "\n",
        "  cursor.execute('select * from moon_phases')\n",
        "\n",
        "  for row in cursor.fetchall():\n",
        "    print(row)"
      ],
      "metadata": {
        "colab": {
          "base_uri": "https://localhost:8080/"
        },
        "id": "hOJpLMlYKoV4",
        "outputId": "d032245e-505b-43e5-c654-b5fdca5a58e5"
      },
      "execution_count": 83,
      "outputs": [
        {
          "output_type": "stream",
          "name": "stdout",
          "text": [
            "(1, '🌕', '2017-12-03 15:47:00', 'Full Moon')\n",
            "(2, '🌗', '2017-12-10 07:51:00', 'Last Quarter')\n",
            "(3, '🌑', '2017-12-18 06:30:00', 'New Moon')\n",
            "(4, '🌓', '2017-12-26 09:20:00', 'First Quarter')\n",
            "(5, '🌕', '2018-01-02 02:24:00', 'Full Moon')\n",
            "(6, '🌗', '2018-01-08 22:25:00', 'Last Quarter')\n",
            "(7, '🌑', '2018-01-17 02:17:00', 'New Moon')\n",
            "(8, '🌓', '2018-01-24 22:20:00', 'First Quarter')\n",
            "(9, '🌕', '2018-01-31 13:27:00', 'Full Moon')\n"
          ]
        }
      ]
    },
    {
      "cell_type": "code",
      "source": [
        "from typing import Iterable, List, Tuple\n",
        "\n",
        "\n",
        "class SQLiteSelect(beam.DoFn):\n",
        "\n",
        "  def __init__(self, db_name:str):\n",
        "    super(SQLiteSelect, self).__init__()\n",
        "    self.db_name = db_name\n",
        "\n",
        "  def setup(self):\n",
        "      self.connection = sqlite3.connect(self.db_name)\n",
        "  \n",
        "  def process(self, query:Tuple[str, List[str]])->Iterable[Dict[str,str]]:\n",
        "      table, columns = query\n",
        "      cursor = self.connection.cursor()\n",
        "      cursor.execute(f\"select {','.join(columns)} from {table}\")\n",
        "      for row in cursor.fetchall():\n",
        "        yield dict(zip(columns, row))\n",
        "\n",
        "  def teardown(self):\n",
        "    self.connection.close()\n",
        "\n",
        "class SQLiteSelect(beam.DoFn):\n",
        "  def __init__(self, database_file: str):\n",
        "    self.database_file = database_file\n",
        "    self.connection = None\n",
        "\n",
        "  def setup(self):\n",
        "    self.connection = sqlite3.connect(self.database_file)\n",
        "\n",
        "  def process(self, query: Tuple[str, List[str]]) -> Iterable[Dict[str, str]]:\n",
        "    table, columns = query\n",
        "    cursor = self.connection.cursor()\n",
        "    cursor.execute(f\"SELECT {','.join(columns)} FROM {table}\")\n",
        "    for row in cursor.fetchall():\n",
        "      yield dict(zip(columns, row))\n",
        "\n",
        "  def teardown(self):\n",
        "    self.connection.close()\n",
        "\n",
        "\n",
        "@beam.ptransform_fn\n",
        "@beam.typehints.with_input_types(beam.pvalue.PBegin)\n",
        "@beam.typehints.with_output_types(Dict[str,str])\n",
        "def SelectFromSQLite(pbegin:beam.pvalue.PBegin,\n",
        "                     db_name:str,\n",
        "                     query:List[Tuple[str, List[str]]])->beam.PCollection(Dict[str,str]):\n",
        "\n",
        "  return (\n",
        "      pbegin\n",
        "      |'create input'>>beam.Create(query)\n",
        "      |'querying sqlite'>>beam.ParDo(SQLiteSelect(db_name))\n",
        "  )\n",
        "\n",
        "\n",
        "\n",
        "\n",
        "queries = [\n",
        "    # (table_name, [column1, column2, ...])\n",
        "    ('moon_phases', ['phase_emoji', 'peak_datetime', 'emoji']),\n",
        "    ('moon_phases', ['phase_emoji', 'peak_datetime']),\n",
        "]\n",
        "\n",
        "\n",
        "with beam.Pipeline() as pipe:\n",
        "  (\n",
        "   pipe\n",
        "   |'read from sqlite' >>SelectFromSQLite(db_name, queries)\n",
        "   |'printing'>>beam.Map(print)\n",
        "  )"
      ],
      "metadata": {
        "colab": {
          "base_uri": "https://localhost:8080/"
        },
        "id": "Aloi-7qBS3Dt",
        "outputId": "c8d27da9-048e-42ff-d63b-7e0642b85b57"
      },
      "execution_count": 92,
      "outputs": [
        {
          "output_type": "stream",
          "name": "stdout",
          "text": [
            "{'phase_emoji': '🌕', 'peak_datetime': '2017-12-03 15:47:00', 'emoji': 'Full Moon'}\n",
            "{'phase_emoji': '🌗', 'peak_datetime': '2017-12-10 07:51:00', 'emoji': 'Last Quarter'}\n",
            "{'phase_emoji': '🌑', 'peak_datetime': '2017-12-18 06:30:00', 'emoji': 'New Moon'}\n",
            "{'phase_emoji': '🌓', 'peak_datetime': '2017-12-26 09:20:00', 'emoji': 'First Quarter'}\n",
            "{'phase_emoji': '🌕', 'peak_datetime': '2018-01-02 02:24:00', 'emoji': 'Full Moon'}\n",
            "{'phase_emoji': '🌗', 'peak_datetime': '2018-01-08 22:25:00', 'emoji': 'Last Quarter'}\n",
            "{'phase_emoji': '🌑', 'peak_datetime': '2018-01-17 02:17:00', 'emoji': 'New Moon'}\n",
            "{'phase_emoji': '🌓', 'peak_datetime': '2018-01-24 22:20:00', 'emoji': 'First Quarter'}\n",
            "{'phase_emoji': '🌕', 'peak_datetime': '2018-01-31 13:27:00', 'emoji': 'Full Moon'}\n",
            "{'phase_emoji': '🌕', 'peak_datetime': '2017-12-03 15:47:00'}\n",
            "{'phase_emoji': '🌗', 'peak_datetime': '2017-12-10 07:51:00'}\n",
            "{'phase_emoji': '🌑', 'peak_datetime': '2017-12-18 06:30:00'}\n",
            "{'phase_emoji': '🌓', 'peak_datetime': '2017-12-26 09:20:00'}\n",
            "{'phase_emoji': '🌕', 'peak_datetime': '2018-01-02 02:24:00'}\n",
            "{'phase_emoji': '🌗', 'peak_datetime': '2018-01-08 22:25:00'}\n",
            "{'phase_emoji': '🌑', 'peak_datetime': '2018-01-17 02:17:00'}\n",
            "{'phase_emoji': '🌓', 'peak_datetime': '2018-01-24 22:20:00'}\n",
            "{'phase_emoji': '🌕', 'peak_datetime': '2018-01-31 13:27:00'}\n"
          ]
        }
      ]
    },
    {
      "cell_type": "code",
      "source": [
        ""
      ],
      "metadata": {
        "id": "fpubnen7aoF_"
      },
      "execution_count": null,
      "outputs": []
    }
  ]
}